{
 "cells": [
  {
   "cell_type": "markdown",
   "id": "5a85bc14-4df0-4a1c-9dba-202212118068",
   "metadata": {},
   "source": [
    "## Importação das bibliotecas"
   ]
  },
  {
   "cell_type": "code",
   "execution_count": null,
   "id": "64f1bf67-bd94-46e9-96fc-c437fe1a2c99",
   "metadata": {
    "tags": []
   },
   "outputs": [],
   "source": [
    "import cv2\n",
    "import numpy as np"
   ]
  },
  {
   "cell_type": "markdown",
   "id": "6a5d35a3-a6cb-4e82-af42-675e85be4566",
   "metadata": {},
   "source": [
    "## Leitura e configuração das imagens"
   ]
  },
  {
   "cell_type": "code",
   "execution_count": null,
   "id": "81614a5d-0c51-45b8-89ba-cdcb35ad72f5",
   "metadata": {
    "tags": []
   },
   "outputs": [],
   "source": [
    "# Carrega a imagem de entrada\n",
    "img = cv2.imread('jardim.jpg')\n",
    "\n",
    "# Define a lista de objetos de interesse\n",
    "objetos = ['vermelho.jpg', 'roxo.jpg]\n",
    "\n",
    "# Converte a imagem de entrada para o espaço de cor HSV\n",
    "hsv_img = cv2.cvtColor(img, cv2.COLOR_BGR2HSV)\n",
    "\n",
    "# Inicializa a imagem de backprojection\n",
    "backproj = np.zeros_like(hsv_img[:,:,0]).astype(np.uint8)"
   ]
  },
  {
   "cell_type": "markdown",
   "id": "f754a4bd-e0c7-476d-9afe-a3233737fa3c",
   "metadata": {},
   "source": [
    "## Backprojection"
   ]
  },
  {
   "cell_type": "code",
   "execution_count": null,
   "id": "baa56377-292a-4b1c-9ae9-4212e35ebb46",
   "metadata": {
    "tags": []
   },
   "outputs": [],
   "source": [
    "for obj_name in objetos:\n",
    "    # Carrega o objeto de interesse\n",
    "    obj = cv2.imread(obj_name)\n",
    "\n",
    "    # Converte o objeto de interesse para o espaço de cor HSV\n",
    "    hsv_obj = cv2.cvtColor(obj, cv2.COLOR_BGR2HSV)\n",
    "\n",
    "    # Calcula o histograma normalizado do objeto de interesse\n",
    "    roi_hist = cv2.calcHist([hsv_obj], [0, 1], None, [180, 256], [0, 180, 0, 256])\n",
    "    cv2.normalize(roi_hist, roi_hist, 0, 255, cv2.NORM_MINMAX)\n",
    "\n",
    "    # Calcula o histogram backprojection da imagem de entrada\n",
    "    backproj_obj = cv2.calcBackProject([hsv_img], [0, 1], roi_hist, [0, 180, 0, 256], 1)\n",
    "\n",
    "    # Soma o backprojection do objeto de interesse à imagem de backprojection\n",
    "    backproj += backproj_obj"
   ]
  },
  {
   "cell_type": "markdown",
   "id": "79299f32-8603-45c5-9d23-0eab3f297f23",
   "metadata": {},
   "source": [
    "## Remoção de ruídos e segmentação"
   ]
  },
  {
   "cell_type": "code",
   "execution_count": null,
   "id": "dad4811f-3e52-4d2c-990c-8b7abda0fbc7",
   "metadata": {
    "tags": []
   },
   "outputs": [],
   "source": [
    "# Aplica filtro para remover ruídos\n",
    "disc = cv2.getStructuringElement(cv2.MORPH_ELLIPSE, (5, 5))\n",
    "cv2.filter2D(backproj, -1, disc, backproj)\n",
    "\n",
    "# Aplica limiar para binarizar a imagem\n",
    "ret,thresh = cv2.threshold(backproj, 50, 255, 0)\n",
    "thresh = cv2.merge((thresh, thresh, thresh))\n",
    "\n",
    "res = cv2.bitwise_and(img,thresh)\n",
    "res = np.vstack((img, thresh, res))"
   ]
  },
  {
   "cell_type": "markdown",
   "id": "25bb3896-942f-435b-8404-dd4babb6b718",
   "metadata": {},
   "source": [
    "## Salvar resultado"
   ]
  },
  {
   "cell_type": "code",
   "execution_count": null,
   "id": "3a1d71f6-7972-4d26-a2a2-f0727bf6182f",
   "metadata": {
    "tags": []
   },
   "outputs": [],
   "source": [
    "cv2.imwrite('res.jpg', res)"
   ]
  }
 ],
 "metadata": {
  "kernelspec": {
   "display_name": "Python 3 (ipykernel)",
   "language": "python",
   "name": "python3"
  },
  "language_info": {
   "codemirror_mode": {
    "name": "ipython",
    "version": 3
   },
   "file_extension": ".py",
   "mimetype": "text/x-python",
   "name": "python",
   "nbconvert_exporter": "python",
   "pygments_lexer": "ipython3",
   "version": "3.11.3"
  }
 },
 "nbformat": 4,
 "nbformat_minor": 5
}
